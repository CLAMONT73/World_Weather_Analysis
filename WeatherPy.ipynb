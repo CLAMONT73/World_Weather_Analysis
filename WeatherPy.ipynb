{
 "cells": [
  {
   "cell_type": "code",
   "execution_count": 1,
   "metadata": {},
   "outputs": [],
   "source": [
    "# Import dependencies.\n",
    "\n",
    "import pandas as pd\n",
    "import matplotlib.pyplot as plt\n",
    "import numpy as np\n"
   ]
  },
  {
   "cell_type": "code",
   "execution_count": 2,
   "metadata": {},
   "outputs": [],
   "source": [
    "# Declare each array, latitude (lats) and longitude (lngs), as variables. Pair lats & lngs by zipping them \n",
    "# (lat_lngs) by using the zip() function.\n",
    "\n",
    "lats = np.random.uniform(low=-90.000, high=90.000, size=1500)\n",
    "lngs = np.random.uniform(low=-180.000, high=180.000, size=1500)\n",
    "\n",
    "lat_lngs = zip(lats, lngs)\n"
   ]
  },
  {
   "cell_type": "code",
   "execution_count": 3,
   "metadata": {},
   "outputs": [
    {
     "data": {
      "text/plain": [
       "<zip at 0x7f86304ffa00>"
      ]
     },
     "execution_count": 3,
     "metadata": {},
     "output_type": "execute_result"
    }
   ],
   "source": [
    "# Output is a zip object in memory.\n",
    "\n",
    "lat_lngs"
   ]
  },
  {
   "cell_type": "code",
   "execution_count": 4,
   "metadata": {},
   "outputs": [],
   "source": [
    "# Order pairs of latitudes and longitudes into a list. This makes it easier to iterate through the list of tuples.\n",
    "\n",
    "coordinates = list(lat_lngs)\n"
   ]
  },
  {
   "cell_type": "code",
   "execution_count": 5,
   "metadata": {},
   "outputs": [],
   "source": [
    "# Import citipy module.\n",
    "\n",
    "from citipy import citipy\n"
   ]
  },
  {
   "cell_type": "code",
   "execution_count": 6,
   "metadata": {},
   "outputs": [],
   "source": [
    "# Create a list for holding the cities.\n",
    "# Create a for loop to identify the nearest cities based on latitude and longiture combinations in the zip file.\n",
    "# Create an if Statement: If the city is unique, add to the cities list.\n",
    "\n",
    "cities = []\n",
    "\n",
    "for coordinate in coordinates:\n",
    "    city = citipy.nearest_city(coordinate[0], coordinate[1]).city_name\n",
    "    \n",
    "    if city not in cities:\n",
    "        cities.append(city)\n",
    "        "
   ]
  },
  {
   "cell_type": "code",
   "execution_count": 7,
   "metadata": {},
   "outputs": [
    {
     "data": {
      "text/plain": [
       "618"
      ]
     },
     "execution_count": 7,
     "metadata": {},
     "output_type": "execute_result"
    }
   ],
   "source": [
    "# Use the len() function to find out the # of cities in the list. Need at least 500 for this exercise.\n",
    "\n",
    "len(cities)"
   ]
  }
 ],
 "metadata": {
  "kernelspec": {
   "display_name": "PythonData",
   "language": "python",
   "name": "pythondata"
  },
  "language_info": {
   "codemirror_mode": {
    "name": "ipython",
    "version": 3
   },
   "file_extension": ".py",
   "mimetype": "text/x-python",
   "name": "python",
   "nbconvert_exporter": "python",
   "pygments_lexer": "ipython3",
   "version": "3.7.4"
  }
 },
 "nbformat": 4,
 "nbformat_minor": 2
}
